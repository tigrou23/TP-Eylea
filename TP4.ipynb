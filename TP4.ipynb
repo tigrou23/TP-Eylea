{
 "cells": [
  {
   "attachments": {},
   "cell_type": "markdown",
   "metadata": {},
   "source": [
    "# TP 4\n",
    "\n",
    "## Les boucles - suite\n"
   ]
  },
  {
   "cell_type": "code",
   "execution_count": 6,
   "metadata": {},
   "outputs": [
    {
     "name": "stdout",
     "output_type": "stream",
     "text": [
      "La séquence inverse complémentaire est 5'- CGGCTATATCAGGGTCAAGCC -3'\n"
     ]
    }
   ],
   "source": [
    "# Exercice 1 - V1 non demandée\n",
    "\n",
    "seq = input(\"Saisissez une séquence d'ADN\")\n",
    "seq = seq.upper()\n",
    "seq_complementaire = \"\"\n",
    "\n",
    "i = 0\n",
    "\n",
    "while i < len(seq):\n",
    "    if seq[len(seq)-1-i:len(seq)-i] == \"A\":\n",
    "        seq_complementaire += \"T\"\n",
    "    elif seq[len(seq)-1-i:len(seq)-i] == \"T\":\n",
    "        seq_complementaire += \"A\"\n",
    "    elif seq[len(seq)-1-i:len(seq)-i] == \"G\":\n",
    "        seq_complementaire += \"C\"\n",
    "    else:\n",
    "        seq_complementaire += \"G\"\n",
    "    \n",
    "    i += 1\n",
    "\n",
    "print(\"La séquence inverse complémentaire est 5'-\", seq_complementaire, \"-3'\")\n"
   ]
  },
  {
   "cell_type": "code",
   "execution_count": 15,
   "metadata": {},
   "outputs": [
    {
     "name": "stdout",
     "output_type": "stream",
     "text": [
      "La séquence inverse complémentaire est 5'- CAT -3'\n"
     ]
    }
   ],
   "source": [
    "# Exercice 1 - V2 en partant de la fin de la séquence\n",
    "\n",
    "seq = input(\"Saisissez une séquence d'ADN : \")\n",
    "seq = seq.upper()\n",
    "\n",
    "seq_complementaire = \"\"\n",
    "\n",
    "i = len(seq)-1\n",
    "\n",
    "while i >= 0:\n",
    "    if seq[i] == \"A\":\n",
    "        seq_complementaire += \"T\"\n",
    "    elif seq[i] == \"T\":\n",
    "        seq_complementaire += \"A\"\n",
    "    elif seq[i] == \"G\":\n",
    "        seq_complementaire += \"C\"\n",
    "    else:\n",
    "        seq_complementaire += \"G\"\n",
    "    \n",
    "    i = i -1\n",
    "\n",
    "print(\"La séquence inverse complémentaire est 5'-\", seq_complementaire, \"-3'\")\n"
   ]
  },
  {
   "cell_type": "code",
   "execution_count": 10,
   "metadata": {},
   "outputs": [
    {
     "name": "stdout",
     "output_type": "stream",
     "text": [
      "La séquence inverse complémentaire est 5'- CAT -3'\n"
     ]
    }
   ],
   "source": [
    "# Exercice 1 - V3 en partant du début de la séquence (robertbonjour ou bonjourrobert)\n",
    "\n",
    "seq = input(\"Saisissez une séquence d'ADN : \")\n",
    "seq = seq.upper()\n",
    "\n",
    "seq_complementaire = \"\"\n",
    "\n",
    "i = 0\n",
    "\n",
    "while i < len(seq):\n",
    "    if seq[i] == \"A\":\n",
    "        seq_complementaire = \"T\" + seq_complementaire\n",
    "    elif seq[i] == \"T\":\n",
    "        seq_complementaire = \"A\" + seq_complementaire\n",
    "    elif seq[i] == \"G\":\n",
    "        seq_complementaire = \"C\" + seq_complementaire\n",
    "    else:\n",
    "        seq_complementaire = \"G\" + seq_complementaire\n",
    "    \n",
    "    i += 1\n",
    "\n",
    "print(\"La séquence inverse complémentaire est 5'-\", seq_complementaire, \"-3'\")"
   ]
  },
  {
   "cell_type": "code",
   "execution_count": 34,
   "metadata": {},
   "outputs": [
    {
     "name": "stdout",
     "output_type": "stream",
     "text": [
      "La séquence entrée n'est pas une séquence d'ADN et les 3 erreurs sont en position 4 5 6 \n"
     ]
    }
   ],
   "source": [
    "# Exercice 2\n",
    "\n",
    "seq = input(\"Saisissez une séquence d'ADN\")\n",
    "seq = seq.upper()\n",
    "\n",
    "compteur = 0\n",
    "position_erreurs = \"\"\n",
    "\n",
    "i = 0\n",
    "\n",
    "while i < len(seq):\n",
    "    if seq[i] not in \"ATGC\":\n",
    "        compteur += 1\n",
    "        position_erreurs += str(i+1)\n",
    "        position_erreurs += \" \"\n",
    "\n",
    "    i += 1\n",
    "\n",
    "if compteur == 0:\n",
    "    print(\"La séquence saisie est bien une séquence d'ADN\")\n",
    "\n",
    "else:\n",
    "    print(\"La séquence entrée n'est pas une séquence d'ADN et les\", compteur, \"erreurs sont en position\", position_erreurs)\n"
   ]
  },
  {
   "cell_type": "code",
   "execution_count": null,
   "metadata": {},
   "outputs": [],
   "source": [
    "# Exercice 3 avec un flag pour sortir de la boucle dès qu'une erreur est détectée\n",
    "\n"
   ]
  },
  {
   "cell_type": "code",
   "execution_count": 28,
   "metadata": {},
   "outputs": [
    {
     "name": "stdout",
     "output_type": "stream",
     "text": [
      "Il s'agit d'un palindrome\n"
     ]
    }
   ],
   "source": [
    "# Exercice 4\n",
    "\n",
    "seq = input(\"Saisissez une chaîne de caractères\")\n",
    "seq = seq.upper()\n",
    "\n",
    "compteur = 0\n",
    "i = 0\n",
    "\n",
    "while i < len(seq):\n",
    "    if seq[i] == seq[len(seq)-1-i]:\n",
    "        compteur +=1\n",
    "    i += 1\n",
    "    \n",
    "if compteur == len(seq):\n",
    "    print(\"Il s'agit d'un palindrome\")\n",
    "else:\n",
    "    print(\"Il ne s'agit pas d'un palindrome\")"
   ]
  },
  {
   "cell_type": "code",
   "execution_count": 35,
   "metadata": {},
   "outputs": [
    {
     "name": "stdout",
     "output_type": "stream",
     "text": [
      "Il ne s'agit pas d'un palindrome biologique type épingle à cheveux\n"
     ]
    }
   ],
   "source": [
    "# Exercice 5\n",
    "\n",
    "seq = input(\"Saisissez une chaîne de caractères\")\n",
    "seq = seq.upper()\n",
    "\n",
    "compteur = 0\n",
    "i = 0\n",
    "\n",
    "while i < len(seq):\n",
    "    if seq[i] == \"A\" and seq[len(seq)-1-i] == \"T\":\n",
    "        compteur +=1\n",
    "    elif seq[i] == \"T\" and seq[len(seq)-1-i] == \"A\":\n",
    "        compteur +=1\n",
    "    elif seq[i] == \"G\" and seq[len(seq)-1-i] == \"C\":\n",
    "        compteur +=1\n",
    "    elif seq[i] == \"C\" and seq[len(seq)-1-i] == \"G\":\n",
    "        compteur +=1\n",
    "    i += 1\n",
    "    \n",
    "if compteur == len(seq):\n",
    "    print(\"Il s'agit d'un palindrome biologique type épingle à cheveux\")\n",
    "else:\n",
    "    print(\"Il ne s'agit pas d'un palindrome biologique type épingle à cheveux\")"
   ]
  }
 ],
 "metadata": {
  "kernelspec": {
   "display_name": "Python 3",
   "language": "python",
   "name": "python3"
  },
  "language_info": {
   "codemirror_mode": {
    "name": "ipython",
    "version": 3
   },
   "file_extension": ".py",
   "mimetype": "text/x-python",
   "name": "python",
   "nbconvert_exporter": "python",
   "pygments_lexer": "ipython3",
   "version": "3.10.6"
  },
  "orig_nbformat": 4,
  "vscode": {
   "interpreter": {
    "hash": "916dbcbb3f70747c44a77c7bcd40155683ae19c65e1c03b4aa3499c5328201f1"
   }
  }
 },
 "nbformat": 4,
 "nbformat_minor": 2
}
